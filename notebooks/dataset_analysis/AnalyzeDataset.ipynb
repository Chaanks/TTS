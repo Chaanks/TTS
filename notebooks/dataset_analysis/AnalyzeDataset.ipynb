{
 "cells": [
  {
   "cell_type": "code",
   "execution_count": 1,
   "metadata": {
    "Collapsed": "false"
   },
   "outputs": [],
   "source": [
    "TTS_PATH = \"/local_disk/calypso/jduret/git/Chaanks/TTS/\""
   ]
  },
  {
   "cell_type": "code",
   "execution_count": 2,
   "metadata": {},
   "outputs": [],
   "source": [
    "#!pip install gruut\n",
    "#!pip install anyascii\n",
    "#!pip install jieba\n",
    "#!pip install pypinyin\n",
    "#!pip install mecab-python3\n",
    "#!pip install pyworld"
   ]
  },
  {
   "cell_type": "code",
   "execution_count": 3,
   "metadata": {
    "Collapsed": "false"
   },
   "outputs": [],
   "source": [
    "import os\n",
    "import sys\n",
    "sys.path.append(TTS_PATH) # set this if TTS is not installed globally\n",
    "import librosa\n",
    "import numpy as np\n",
    "import pandas as pd\n",
    "from scipy.stats import norm\n",
    "from tqdm import tqdm_notebook as tqdm\n",
    "from multiprocessing import Pool\n",
    "from matplotlib import pylab as plt\n",
    "from collections import Counter\n",
    "from TTS.tts.datasets.formatters import synpaflex\n",
    "%matplotlib inline"
   ]
  },
  {
   "cell_type": "code",
   "execution_count": 4,
   "metadata": {
    "Collapsed": "false"
   },
   "outputs": [],
   "source": [
    "DATA_PATH = \"/local_disk/calypso/jduret/corpus/synplaflex\"\n",
    "META_DATA = \"/local_disk/calypso/jduret/corpus/synplaflex/metadata.csv\"\n",
    "NUM_PROC = 8"
   ]
  },
  {
   "cell_type": "code",
   "execution_count": 5,
   "metadata": {
    "Collapsed": "false"
   },
   "outputs": [
    {
     "name": "stdout",
     "output_type": "stream",
     "text": [
      " > Number of audio files: 21824\n"
     ]
    }
   ],
   "source": [
    "# use your own preprocessor at this stage - TTS/datasets/proprocess.py\n",
    "items = synpaflex(DATA_PATH, META_DATA)\n",
    "print(\" > Number of audio files: {}\".format(len(items)))"
   ]
  },
  {
   "cell_type": "code",
   "execution_count": 6,
   "metadata": {
    "Collapsed": "false"
   },
   "outputs": [],
   "source": [
    "# check wavs if exist\n",
    "wav_files = []\n",
    "for item in items:\n",
    "    wav_file = item[1].strip()\n",
    "    wav_files.append(wav_file)\n",
    "    if not os.path.exists(wav_file):\n",
    "        print(waf_file)"
   ]
  },
  {
   "cell_type": "code",
   "execution_count": 7,
   "metadata": {
    "Collapsed": "false"
   },
   "outputs": [
    {
     "name": "stdout",
     "output_type": "stream",
     "text": [
      "[]\n"
     ]
    }
   ],
   "source": [
    "# show duplicate items\n",
    "c = Counter(wav_files)\n",
    "print([item for item, count in c.items() if count > 1])"
   ]
  },
  {
   "cell_type": "code",
   "execution_count": 8,
   "metadata": {
    "Collapsed": "false"
   },
   "outputs": [
    {
     "name": "stderr",
     "output_type": "stream",
     "text": [
      "/tmp/ipykernel_18072/828820704.py:18: TqdmDeprecationWarning: This function will be removed in tqdm==5.0.0\n",
      "Please use `tqdm.notebook.tqdm` instead of `tqdm.tqdm_notebook`\n",
      "  data = list(tqdm(p.imap(load_item, items), total=len(items)))\n"
     ]
    },
    {
     "data": {
      "application/vnd.jupyter.widget-view+json": {
       "model_id": "3b2ffa2b1716435a93c33e1683379429",
       "version_major": 2,
       "version_minor": 0
      },
      "text/plain": [
       "  0%|          | 0/21824 [00:00<?, ?it/s]"
      ]
     },
     "metadata": {},
     "output_type": "display_data"
    }
   ],
   "source": [
    "def load_item(item):\n",
    "    file_name = item[1].strip()\n",
    "    text = item[0].strip()\n",
    "    audio = librosa.load(file_name, sr=None)\n",
    "    sr = audio[1]\n",
    "    audio = audio[0]\n",
    "    audio_len = len(audio) / sr\n",
    "    text_len = len(text)\n",
    "    return file_name, text, text_len, audio, audio_len\n",
    "\n",
    "# This will take a while depending on size of dataset\n",
    "if NUM_PROC == 1:\n",
    "    data = []\n",
    "    for m in tqdm(items):\n",
    "        data += [load_item(m)]\n",
    "else:\n",
    "    with Pool(8) as p:\n",
    "        data = list(tqdm(p.imap(load_item, items), total=len(items)))"
   ]
  },
  {
   "cell_type": "code",
   "execution_count": 9,
   "metadata": {
    "Collapsed": "false"
   },
   "outputs": [
    {
     "name": "stderr",
     "output_type": "stream",
     "text": [
      "/tmp/ipykernel_18072/2126754372.py:3: TqdmDeprecationWarning: This function will be removed in tqdm==5.0.0\n",
      "Please use `tqdm.notebook.tqdm` instead of `tqdm.tqdm_notebook`\n",
      "  for item in tqdm(data):\n"
     ]
    },
    {
     "data": {
      "application/vnd.jupyter.widget-view+json": {
       "model_id": "4ecf46ab8cd543b8baa8bd3e19430e21",
       "version_major": 2,
       "version_minor": 0
      },
      "text/plain": [
       "  0%|          | 0/21824 [00:00<?, ?it/s]"
      ]
     },
     "metadata": {},
     "output_type": "display_data"
    },
    {
     "name": "stdout",
     "output_type": "stream",
     "text": [
      " > Number of words: 70645\n"
     ]
    }
   ],
   "source": [
    "# count words in the dataset\n",
    "w_count = Counter()\n",
    "for item in tqdm(data):\n",
    "    text = item[1].lower().strip()\n",
    "    for word in text.split():\n",
    "        w_count[word] += 1\n",
    "print(\" > Number of words: {}\".format(len(w_count)))"
   ]
  },
  {
   "cell_type": "code",
   "execution_count": 10,
   "metadata": {
    "Collapsed": "false"
   },
   "outputs": [
    {
     "name": "stderr",
     "output_type": "stream",
     "text": [
      "/tmp/ipykernel_18072/1322472053.py:3: TqdmDeprecationWarning: This function will be removed in tqdm==5.0.0\n",
      "Please use `tqdm.notebook.tqdm` instead of `tqdm.tqdm_notebook`\n",
      "  for item in tqdm(data):\n"
     ]
    },
    {
     "data": {
      "application/vnd.jupyter.widget-view+json": {
       "model_id": "4629d3edcc974facafe0bb1f4663fc47",
       "version_major": 2,
       "version_minor": 0
      },
      "text/plain": [
       "  0%|          | 0/21824 [00:00<?, ?it/s]"
      ]
     },
     "metadata": {},
     "output_type": "display_data"
    }
   ],
   "source": [
    "text_vs_durs = {}  # text length vs audio duration\n",
    "text_len_counter = Counter()  # number of sentences with the keyed length\n",
    "for item in tqdm(data):\n",
    "    text = item[1].lower().strip()\n",
    "    text_len = len(text)\n",
    "    text_len_counter[text_len] += 1\n",
    "    audio_len = item[-1]\n",
    "    try:\n",
    "        text_vs_durs[text_len] += [audio_len]\n",
    "    except:\n",
    "        text_vs_durs[text_len] = [audio_len]"
   ]
  },
  {
   "cell_type": "code",
   "execution_count": 11,
   "metadata": {
    "Collapsed": "false"
   },
   "outputs": [],
   "source": [
    "# text_len vs avg_audio_len, median_audio_len, std_audio_len\n",
    "text_vs_avg = {}\n",
    "text_vs_median = {}\n",
    "text_vs_std = {}\n",
    "for key, durs in text_vs_durs.items():\n",
    "    text_vs_avg[key] = np.mean(durs)\n",
    "    text_vs_median[key] = np.median(durs)\n",
    "    text_vs_std[key] = np.std(durs)"
   ]
  },
  {
   "cell_type": "markdown",
   "metadata": {
    "Collapsed": "false"
   },
   "source": [
    "### Avg audio length per char"
   ]
  },
  {
   "cell_type": "code",
   "execution_count": 15,
   "metadata": {
    "Collapsed": "false"
   },
   "outputs": [],
   "source": [
    "# for item in data:\n",
    "#     if item[-1] < 2:\n",
    "#         print(item)"
   ]
  },
  {
   "cell_type": "code",
   "execution_count": 13,
   "metadata": {
    "Collapsed": "false"
   },
   "outputs": [],
   "source": [
    "sec_per_chars = []\n",
    "for item in data:\n",
    "    text = item[1]\n",
    "    dur = item[-1]\n",
    "    sec_per_char = dur / len(text)\n",
    "    sec_per_chars.append(sec_per_char)\n",
    "# sec_per_char /= len(data)\n",
    "# print(sec_per_char)"
   ]
  },
  {
   "cell_type": "code",
   "execution_count": 14,
   "metadata": {
    "Collapsed": "false"
   },
   "outputs": [
    {
     "name": "stdout",
     "output_type": "stream",
     "text": [
      "0.0736021192186099\n",
      "0.021647417556280774\n"
     ]
    }
   ],
   "source": [
    "mean = np.mean(sec_per_chars)\n",
    "std = np.std(sec_per_chars)\n",
    "print(mean)\n",
    "print(std)"
   ]
  },
  {
   "cell_type": "code",
   "execution_count": 16,
   "metadata": {
    "Collapsed": "false"
   },
   "outputs": [
    {
     "name": "stdout",
     "output_type": "stream",
     "text": [
      "('/local_disk/calypso/jduret/corpus/synplaflex/wavs/voyagecentreterre_26_027.wav', 'Fin du Chapitre 26.', 19, array([ 0.0000000e+00, -3.0517578e-05,  3.0517578e-05, ...,\n",
      "       -3.0517578e-05,  0.0000000e+00,  0.0000000e+00], dtype=float32), 6.449478458049887)\n",
      "('/local_disk/calypso/jduret/corpus/synplaflex/wavs/voyagecentreterre_36_072.wav', 'Fin du chapitre 36.', 19, array([-1.8310547e-04,  6.1035156e-05, -3.0517578e-05, ...,\n",
      "        3.0517578e-05,  0.0000000e+00,  0.0000000e+00], dtype=float32), 7.5902267573696145)\n",
      "('/local_disk/calypso/jduret/corpus/synplaflex/wavs/voyagecentreterre_16_047.wav', 'Fin du Chapitre 16.', 19, array([ 1.0375977e-03, -3.6621094e-04,  9.1552734e-05, ...,\n",
      "        3.0517578e-05,  0.0000000e+00,  0.0000000e+00], dtype=float32), 6.93827664399093)\n",
      "('/local_disk/calypso/jduret/corpus/synplaflex/wavs/voyagecentreterre_32_062.wav', 'Fin du Chapitre 32.', 19, array([-2.4414062e-04, -3.0517578e-05, -9.1552734e-05, ...,\n",
      "        0.0000000e+00,  0.0000000e+00,  0.0000000e+00], dtype=float32), 6.947052154195012)\n",
      "('/local_disk/calypso/jduret/corpus/synplaflex/wavs/voyagecentreterre_37_031.wav', 'Fin du chapitre 37.', 19, array([-2.7465820e-04,  8.2397461e-04, -1.8310547e-04, ...,\n",
      "        3.0517578e-05,  3.0517578e-05,  0.0000000e+00], dtype=float32), 8.300816326530612)\n",
      "('/local_disk/calypso/jduret/corpus/synplaflex/wavs/voyagecentreterre_42_063.wav', 'Fin du Chapitre 42.', 19, array([ 5.7983398e-04,  0.0000000e+00,  1.5258789e-04, ...,\n",
      "        3.0517578e-05, -3.0517578e-05, -6.1035156e-05], dtype=float32), 7.377256235827664)\n",
      "('/local_disk/calypso/jduret/corpus/synplaflex/wavs/voyagecentreterre_22_024.wav', 'Fin du Chapitre 22.', 19, array([-5.4931641e-04, -2.1362305e-04,  9.1552734e-05, ...,\n",
      "       -3.0517578e-05,  0.0000000e+00,  0.0000000e+00], dtype=float32), 7.477052154195011)\n",
      "('/local_disk/calypso/jduret/corpus/synplaflex/wavs/montesquieu_lettrespersanes_09_009.wav', 'Fin de la Lettre VII.', 21, array([-7.9345703e-04, -3.3569336e-04, -4.2724609e-04, ...,\n",
      "       -6.1035156e-05,  6.1035156e-05,  3.0517578e-05], dtype=float32), 7.159591836734694)\n",
      "('/local_disk/calypso/jduret/corpus/synplaflex/wavs/montesquieu_lettrespersanes_64_012.wav', 'Fin de la Lettre 62.', 20, array([-1.0070801e-03, -8.5449219e-04, -7.9345703e-04, ...,\n",
      "       -3.0517578e-05,  0.0000000e+00,  0.0000000e+00], dtype=float32), 7.257755102040816)\n",
      "('/local_disk/calypso/jduret/corpus/synplaflex/wavs/montesquieu_lettrespersanes_72_005.wav', 'Fin de la Lettre 70.', 20, array([-4.2724609e-04, -7.0190430e-04,  6.1035156e-05, ...,\n",
      "        3.0517578e-05,  0.0000000e+00, -3.0517578e-05], dtype=float32), 8.29501133786848)\n",
      "('/local_disk/calypso/jduret/corpus/synplaflex/wavs/montesquieu_lettrespersanes_05_007.wav', 'Fin de la Lettre III.', 21, array([-2.1362305e-04, -3.6621094e-04, -3.0517578e-04, ...,\n",
      "        0.0000000e+00, -3.0517578e-05,  0.0000000e+00], dtype=float32), 7.251746031746031)\n",
      "('/local_disk/calypso/jduret/corpus/synplaflex/wavs/feval_vampire_27_154.wav', 'Fin de La Vampire, par Paul Féval.', 34, array([-9.1552734e-05,  2.7465820e-04,  2.4414062e-04, ...,\n",
      "       -3.0517578e-05,  0.0000000e+00, -6.1035156e-05], dtype=float32), 7.616553287981859)\n",
      "('/local_disk/calypso/jduret/corpus/synplaflex/wavs/hugo_miserables_04_74_060.wav', 'Fin du chapitre 2 du livre quinzième.', 37, array([ 2.7465820e-04,  1.8310547e-04,  3.0517578e-04, ...,\n",
      "        0.0000000e+00, -3.0517578e-05,  0.0000000e+00], dtype=float32), 7.945011337868481)\n",
      "('/local_disk/calypso/jduret/corpus/synplaflex/wavs/hugo_miserables_03_36_011.wav', 'Fin du chapitre 1 du livre cinquième.', 37, array([-0.00079346, -0.00064087, -0.00045776, ...,  0.        ,\n",
      "        0.        ,  0.        ], dtype=float32), 8.78888888888889)\n",
      "('/local_disk/calypso/jduret/corpus/synplaflex/wavs/hugo_miserables_03_56_020.wav', 'Fin du chapitre 2 du livre huitième.', 36, array([-5.1879883e-04, -3.9672852e-04, -3.0517578e-05, ...,\n",
      "        0.0000000e+00, -3.0517578e-05, -3.0517578e-05], dtype=float32), 8.359591836734694)\n",
      "('/local_disk/calypso/jduret/corpus/synplaflex/wavs/hugo_miserables_03_40_018.wav', 'Fin du chapitre 5 du livre cinquième.', 37, array([-6.1035156e-05,  6.1035156e-04, -7.3242188e-04, ...,\n",
      "       -6.1035156e-05, -3.0517578e-05, -3.0517578e-05], dtype=float32), 8.041428571428572)\n",
      "('/local_disk/calypso/jduret/corpus/synplaflex/wavs/hugo_miserables_03_41_030.wav', 'Fin du chapitre 6 du livre cinquième.', 37, array([0.00106812, 0.00054932, 0.00054932, ..., 0.        , 0.        ,\n",
      "       0.        ], dtype=float32), 8.922653061224489)\n",
      "('/local_disk/calypso/jduret/corpus/synplaflex/wavs/hugo_miserables_03_48_011.wav', 'Fin du chapitre 7 du livre sixième.', 35, array([ 7.9345703e-04,  5.4931641e-04,  6.7138672e-04, ...,\n",
      "       -3.0517578e-05,  0.0000000e+00,  0.0000000e+00], dtype=float32), 8.68734693877551)\n",
      "('/local_disk/calypso/jduret/corpus/synplaflex/wavs/hugo_miserables_03_14_005.wav', 'Fin du chapitre 1 du livre deuxième.', 36, array([ 8.8500977e-04,  0.0000000e+00,  6.1035156e-04, ...,\n",
      "       -3.0517578e-05, -3.0517578e-05,  3.0517578e-05], dtype=float32), 7.800612244897959)\n",
      "('/local_disk/calypso/jduret/corpus/synplaflex/wavs/hugo_miserables_04_75_011.wav', 'Fin du chapitre 3 du livre quinzième.', 37, array([ 9.1552734e-05,  1.2207031e-04, -6.1035156e-05, ...,\n",
      "        0.0000000e+00,  0.0000000e+00,  0.0000000e+00], dtype=float32), 8.673877551020409)\n",
      "('/local_disk/calypso/jduret/corpus/synplaflex/wavs/hugo_miserables_03_73_033.wav', 'Fin du chapitre 19 du livre huitième.', 37, array([-0.0007019 , -0.00061035, -0.00073242, ...,  0.        ,\n",
      "        0.        ,  0.        ], dtype=float32), 8.828979591836735)\n",
      "('/local_disk/calypso/jduret/corpus/synplaflex/wavs/hugo_miserables_03_38_017.wav', 'Fin du chapitre 3 du livre cinquième.', 37, array([ 3.0517578e-04, -7.6293945e-04, -1.8310547e-04, ...,\n",
      "        0.0000000e+00,  6.1035156e-05, -6.1035156e-05], dtype=float32), 8.406734693877551)\n",
      "('/local_disk/calypso/jduret/corpus/synplaflex/wavs/hugo_miserables_03_60_038.wav', 'Fin du chapitre 6 du livre huitième.', 36, array([ 9.1552734e-05, -1.5258789e-04,  9.1552734e-05, ...,\n",
      "        3.0517578e-05,  0.0000000e+00,  0.0000000e+00], dtype=float32), 8.738956916099774)\n",
      "('/local_disk/calypso/jduret/corpus/synplaflex/wavs/hugo_miserables_03_60_010.wav', 'IÉNA.', 5, array([0.00042725, 0.00067139, 0.00057983, ..., 0.00039673, 0.00048828,\n",
      "       0.00039673], dtype=float32), 1.12)\n",
      "('/local_disk/calypso/jduret/corpus/synplaflex/wavs/hugo_miserables_03_66_006.wav', '– Non.', 6, array([-3.3569336e-04, -5.1879883e-04,  6.1035156e-05, ...,\n",
      "        3.9672852e-04,  1.5258789e-04, -1.5258789e-04], dtype=float32), 1.5249886621315192)\n",
      "('/local_disk/calypso/jduret/corpus/synplaflex/wavs/hugo_miserables_03_28_050.wav', '– Hé hé !', 9, array([-0.00097656, -0.00030518, -0.0010376 , ..., -0.00012207,\n",
      "       -0.00082397, -0.00018311], dtype=float32), 3.2949886621315194)\n",
      "('/local_disk/calypso/jduret/corpus/synplaflex/wavs/hugo_miserables_03_28_083.wav', 'Fin du chapitre 7 du livre troisième.', 37, array([ 6.1035156e-04,  7.0190430e-04,  8.5449219e-04, ...,\n",
      "       -3.0517578e-05,  0.0000000e+00, -3.0517578e-05], dtype=float32), 8.729909297052155)\n",
      "('/local_disk/calypso/jduret/corpus/synplaflex/wavs/hugo_miserables_03_50_037.wav', 'Fin du chapitre 9 du livre sixième.', 35, array([0.00042725, 0.00073242, 0.00061035, ..., 0.        , 0.        ,\n",
      "       0.        ], dtype=float32), 8.09907029478458)\n",
      "('/local_disk/calypso/jduret/corpus/synplaflex/wavs/hugo_miserables_03_30_046.wav', 'Fin du chapitre 1 du livre quatrième.', 37, array([5.1879883e-04, 4.5776367e-04, 6.1035156e-04, ..., 0.0000000e+00,\n",
      "       3.0517578e-05, 3.0517578e-05], dtype=float32), 13.65326530612245)\n",
      "('/local_disk/calypso/jduret/corpus/synplaflex/wavs/hugo_miserables_03_70_064.wav', 'Fin du chapitre 16 du livre huitième.', 37, array([-4.5776367e-04, -5.4931641e-04, -4.2724609e-04, ...,\n",
      "        0.0000000e+00,  0.0000000e+00, -3.0517578e-05], dtype=float32), 8.797868480725624)\n",
      "('/local_disk/calypso/jduret/corpus/synplaflex/wavs/hugo_miserables_03_20_006.wav', 'Fin du chapitre 7 du livre deuxième.', 36, array([0.00021362, 0.00021362, 0.00036621, ..., 0.        , 0.        ,\n",
      "       0.        ], dtype=float32), 8.634897959183673)\n",
      "('/local_disk/calypso/jduret/corpus/synplaflex/wavs/hugo_miserables_02_58_007.wav', 'Fin du chapitre 10 du livre sixième. Enregistré par Nadine Eckert-Boulet, à Copenhague, en août 2010.', 101, array([ 3.0517578e-04,  2.4414062e-04, -3.0517578e-04, ...,\n",
      "        9.1552734e-05,  4.8828125e-04,  4.5776367e-04], dtype=float32), 24.04501133786848)\n",
      "('/local_disk/calypso/jduret/corpus/synplaflex/wavs/hugo_miserables_04_66_033.wav', 'Fin du chapitre 1 du livre quatorzième.', 39, array([1.8310547e-04, 2.1362305e-04, 3.6621094e-04, ..., 3.0517578e-05,\n",
      "       0.0000000e+00, 3.0517578e-05], dtype=float32), 8.5662358276644)\n",
      "('/local_disk/calypso/jduret/corpus/synplaflex/wavs/hugo_miserables_04_65_021.wav', 'Fin du chapitre 3 du livre treizième.', 37, array([0.00033569, 0.00033569, 0.00024414, ..., 0.        , 0.        ,\n",
      "       0.        ], dtype=float32), 9.012766439909297)\n",
      "('/local_disk/calypso/jduret/corpus/synplaflex/wavs/hugo_miserables_03_71_045.wav', 'Fin du chapitre 17 du livre huitième.', 37, array([0.0020752 , 0.00228882, 0.00106812, ..., 0.        , 0.        ,\n",
      "       0.        ], dtype=float32), 8.444807256235828)\n",
      "('/local_disk/calypso/jduret/corpus/synplaflex/wavs/hugo_miserables_04_47_028.wav', 'Fin du chapitre 4 du livre dixième.', 35, array([-2.1362305e-04, -3.9672852e-04, -4.2724609e-04, ...,\n",
      "        0.0000000e+00,  0.0000000e+00, -3.0517578e-05], dtype=float32), 8.941428571428572)\n",
      "('/local_disk/calypso/jduret/corpus/synplaflex/wavs/hugo_miserables_04_46_018.wav', 'Fin du chapitre 3 du livre dixième.', 35, array([0.00027466, 0.00024414, 0.00030518, ..., 0.        , 0.        ,\n",
      "       0.        ], dtype=float32), 8.323061224489797)\n",
      "('/local_disk/calypso/jduret/corpus/synplaflex/wavs/hugo_miserables_03_02_010.wav', 'Fin du chapitre 2 du livre premier.', 35, array([0.00024414, 0.00045776, 0.00015259, ..., 0.        , 0.        ,\n",
      "       0.        ], dtype=float32), 7.750725623582767)\n",
      "('/local_disk/calypso/jduret/corpus/synplaflex/wavs/hugo_miserables_04_69_021.wav', 'Fin du chapitre 4 du livre quatorzième.', 39, array([ 7.9345703e-04,  7.3242188e-04,  8.2397461e-04, ...,\n",
      "        0.0000000e+00,  0.0000000e+00, -3.0517578e-05], dtype=float32), 8.501950113378685)\n",
      "('/local_disk/calypso/jduret/corpus/synplaflex/wavs/hugo_miserables_03_46_011.wav', 'Fin du chapitre 5 du livre sixième.', 35, array([ 3.9672852e-04,  6.4086914e-04,  4.2724609e-04, ...,\n",
      "       -3.0517578e-05,  0.0000000e+00,  0.0000000e+00], dtype=float32), 8.984399092970522)\n",
      "('/local_disk/calypso/jduret/corpus/synplaflex/wavs/hugo_miserables_03_16_003.wav', 'Fin du chapitre 3 du livre deuxième.', 36, array([-6.4086914e-04, -9.7656250e-04, -9.1552734e-05, ...,\n",
      "        3.0517578e-05,  0.0000000e+00,  0.0000000e+00], dtype=float32), 9.128684807256235)\n",
      "('/local_disk/calypso/jduret/corpus/synplaflex/wavs/hugo_miserables_03_04_007.wav', 'Fin du chapitre 4 du livre premier.', 35, array([-3.0517578e-05,  1.2207031e-04, -2.4414062e-04, ...,\n",
      "        0.0000000e+00,  0.0000000e+00,  3.0517578e-05], dtype=float32), 7.985510204081633)\n",
      "('/local_disk/calypso/jduret/corpus/synplaflex/wavs/hugo_miserables_03_32_019.wav', 'Fin du chapitre 3 du livre quatrième.', 37, array([-2.7465820e-04, -4.8828125e-04, -1.8310547e-04, ...,\n",
      "       -3.0517578e-05,  0.0000000e+00,  0.0000000e+00], dtype=float32), 8.0062358276644)\n",
      "('/local_disk/calypso/jduret/corpus/synplaflex/wavs/hugo_miserables_03_39_017.wav', 'Fin du chapitre 4 du livre cinquième.', 37, array([-2.7465820e-04, -4.2724609e-04,  3.0517578e-04, ...,\n",
      "        0.0000000e+00,  6.1035156e-05,  0.0000000e+00], dtype=float32), 8.980408163265306)\n",
      "('/local_disk/calypso/jduret/corpus/synplaflex/wavs/hugo_miserables_03_10_015.wav', 'Fin du chapitre 10 du livre premier.', 36, array([-2.7465820e-04,  6.1035156e-05, -2.7465820e-04, ...,\n",
      "        0.0000000e+00,  0.0000000e+00,  0.0000000e+00], dtype=float32), 8.896734693877551)\n",
      "('/local_disk/calypso/jduret/corpus/synplaflex/wavs/hugo_miserables_03_12_004.wav', 'Fin du chapitre 12 du livre premier.', 36, array([0.0007019 , 0.00100708, 0.00054932, ..., 0.        , 0.        ,\n",
      "       0.        ], dtype=float32), 8.09673469387755)\n",
      "('/local_disk/calypso/jduret/corpus/synplaflex/wavs/hugo_miserables_03_06_010.wav', 'Fin du chapitre 6 du livre premier.', 35, array([-1.0375977e-03, -7.6293945e-04, -5.7983398e-04, ...,\n",
      "        0.0000000e+00,  0.0000000e+00, -3.0517578e-05], dtype=float32), 7.705011337868481)\n",
      "('/local_disk/calypso/jduret/corpus/synplaflex/wavs/hugo_miserables_04_44_004.wav', 'Où ?', 4, array([-2.7465820e-04, -1.2207031e-04, -2.4414062e-04, ...,\n",
      "        3.0517578e-05,  0.0000000e+00,  0.0000000e+00], dtype=float32), 1.0849886621315192)\n",
      "('/local_disk/calypso/jduret/corpus/synplaflex/wavs/hugo_miserables_04_44_022.wav', 'Fin du chapitre 1 de la dixième partie.', 39, array([2.1362305e-04, 9.1552734e-05, 9.1552734e-05, ..., 6.1035156e-05,\n",
      "       0.0000000e+00, 0.0000000e+00], dtype=float32), 8.818684807256236)\n",
      "('/local_disk/calypso/jduret/corpus/synplaflex/wavs/hugo_miserables_04_45_033.wav', 'Fin du chapitre 2 du livre dixième.', 35, array([ 6.1035156e-05, -3.0517578e-05,  9.1552734e-05, ...,\n",
      "        0.0000000e+00,  0.0000000e+00,  0.0000000e+00], dtype=float32), 9.136848072562358)\n",
      "('/local_disk/calypso/jduret/corpus/synplaflex/wavs/hugo_miserables_03_18_003.wav', 'Fin du chapitre 5 du livre deuxième.', 36, array([1.0681152e-03, 2.7465820e-04, 2.1362305e-04, ..., 0.0000000e+00,\n",
      "       6.1035156e-05, 6.1035156e-05], dtype=float32), 8.494807256235827)\n",
      "('/local_disk/calypso/jduret/corpus/synplaflex/wavs/hugo_miserables_03_37_011.wav', 'Fin du chapitre 2 du livre cinquième.', 37, array([-3.3569336e-04, -3.0517578e-05, -7.0190430e-04, ...,\n",
      "        0.0000000e+00,  0.0000000e+00,  0.0000000e+00], dtype=float32), 8.41938775510204)\n",
      "('/local_disk/calypso/jduret/corpus/synplaflex/wavs/hugo_miserables_03_24_025.wav', 'Fin du chapitre 3 du livre troisième.', 37, array([7.0190430e-04, 1.8310547e-04, 9.1552734e-04, ..., 3.0517578e-05,\n",
      "       0.0000000e+00, 0.0000000e+00], dtype=float32), 7.888072562358277)\n",
      "('/local_disk/calypso/jduret/corpus/synplaflex/wavs/hugo_miserables_03_26_015.wav', '– Quelque amourette !', 21, array([-0.00048828, -0.00067139, -0.00045776, ...,  0.        ,\n",
      "        0.        ,  0.        ], dtype=float32), 7.003378684807256)\n",
      "('/local_disk/calypso/jduret/corpus/synplaflex/wavs/hugo_miserables_03_76_061.wav', 'Fin du chapitre 21 du livre huitième.', 37, array([-7.0190430e-04, -1.3122559e-03, -1.0070801e-03, ...,\n",
      "        6.1035156e-05,  6.1035156e-05,  6.1035156e-05], dtype=float32), 8.456734693877552)\n",
      "('/local_disk/calypso/jduret/corpus/synplaflex/wavs/hugo_miserables_04_71_067.wav', 'Fin du chapitre 6 du livre quatorzième.', 39, array([-2.4414062e-04, -5.4931641e-04, -5.7983398e-04, ...,\n",
      "        0.0000000e+00,  0.0000000e+00, -3.0517578e-05], dtype=float32), 8.737256235827664)\n",
      "('/local_disk/calypso/jduret/corpus/synplaflex/wavs/hugo_miserables_03_61_031.wav', '– 440.', 6, array([0.00061035, 0.0012207 , 0.00091553, ..., 0.00100708, 0.00131226,\n",
      "       0.00109863], dtype=float32), 1.56)\n",
      "('/local_disk/calypso/jduret/corpus/synplaflex/wavs/hugo_miserables_03_61_070.wav', 'Fin du chapitre 7, du livre huitième.', 37, array([-2.1362305e-04,  1.2207031e-04, -1.8310547e-04, ...,\n",
      "        0.0000000e+00,  0.0000000e+00,  3.0517578e-05], dtype=float32), 8.17031746031746)\n",
      "('/local_disk/calypso/jduret/corpus/synplaflex/wavs/hugo_miserables_03_57_043.wav', 'Fin du chapitre 3 du livre huitième.', 36, array([ 2.0141602e-03,  1.2817383e-03,  1.2207031e-03, ...,\n",
      "        0.0000000e+00, -3.0517578e-05, -6.1035156e-05], dtype=float32), 8.584195011337869)\n",
      "('/local_disk/calypso/jduret/corpus/synplaflex/wavs/hugo_miserables_03_64_022.wav', 'Fin du chapitre 10 du livre huitième.', 37, array([-1.5258789e-04,  9.1552734e-05, -2.4414062e-04, ...,\n",
      "        0.0000000e+00, -3.0517578e-05,  0.0000000e+00], dtype=float32), 8.755419501133787)\n",
      "('/local_disk/calypso/jduret/corpus/synplaflex/wavs/hugo_miserables_04_64_012.wav', 'Fin du chapitre 2 du livre treizième.', 37, array([ 0.0000000e+00,  3.0517578e-05,  3.0517578e-05, ...,\n",
      "       -6.1035156e-05,  0.0000000e+00, -3.0517578e-05], dtype=float32), 9.688072562358277)\n",
      "('/local_disk/calypso/jduret/corpus/synplaflex/wavs/hugo_miserables_04_70_028.wav', 'Fin du chapitre 5 du livre quatorzième.', 39, array([-6.1035156e-05,  1.5258789e-04,  2.1362305e-04, ...,\n",
      "        0.0000000e+00,  0.0000000e+00,  0.0000000e+00], dtype=float32), 8.514195011337868)\n",
      "('/local_disk/calypso/jduret/corpus/synplaflex/wavs/hugo_miserables_03_68_059.wav', 'Fin du chapitre 14 du livre huitième.', 37, array([ 3.3569336e-04,  3.6621094e-04,  3.6621094e-04, ...,\n",
      "       -3.0517578e-05,  3.0517578e-05, -3.0517578e-05], dtype=float32), 9.524195011337868)\n",
      "('/local_disk/calypso/jduret/corpus/synplaflex/wavs/hugo_miserables_03_68_030.wav', '– Non.', 6, array([-2.7465820e-04,  3.9672852e-04, -9.1552734e-05, ...,\n",
      "        1.2207031e-04,  1.5258789e-04,  1.8310547e-04], dtype=float32), 1.3850113378684807)\n",
      "('/local_disk/calypso/jduret/corpus/synplaflex/wavs/hugo_miserables_02_64_005.wav', 'Dieu.', 5, array([ 0.00076294,  0.00170898,  0.0007019 , ..., -0.00057983,\n",
      "        0.        ,  0.00036621], dtype=float32), 1.1650113378684808)\n",
      "('/local_disk/calypso/jduret/corpus/synplaflex/wavs/hugo_miserables_03_67_030.wav', 'Fin du chapitre 13 du livre huitième.', 37, array([-3.6621094e-04, -5.4931641e-04, -6.4086914e-04, ...,\n",
      "        0.0000000e+00, -6.1035156e-05, -6.1035156e-05], dtype=float32), 8.989886621315193)\n",
      "('/local_disk/calypso/jduret/corpus/synplaflex/wavs/hugo_miserables_04_67_023.wav', 'Fin du chapitre 2 du livre quatorzième.', 39, array([7.0190430e-04, 7.3242188e-04, 3.6621094e-04, ..., 3.0517578e-05,\n",
      "       0.0000000e+00, 0.0000000e+00], dtype=float32), 8.526031746031746)\n",
      "('/local_disk/calypso/jduret/corpus/synplaflex/wavs/chantsmaldoror_0405_004.wav', 'Fin de la strophe 5 du quatrième chant.', 39, array([-0.00012207,  0.00030518,  0.00024414, ...,  0.        ,\n",
      "        0.        ,  0.        ], dtype=float32), 8.900816326530613)\n",
      "('/local_disk/calypso/jduret/corpus/synplaflex/wavs/lisleadam_contescruels_23_174.wav', \"Fin de L'intersigne.\", 20, array([ 0.00021362, -0.00021362, -0.00048828, ...,  0.        ,\n",
      "        0.        ,  0.        ], dtype=float32), 12.461428571428572)\n",
      "('/local_disk/calypso/jduret/corpus/synplaflex/wavs/merimee_venusdille_2_083.wav', '1837.', 5, array([-6.1035156e-05, -6.1035156e-05, -3.9672852e-04, ...,\n",
      "       -3.3569336e-04,  3.0517578e-05, -2.7465820e-04], dtype=float32), 2.3450113378684807)\n",
      "('/local_disk/calypso/jduret/corpus/synplaflex/wavs/lisleadam_contescruels_11_097.wav', 'Fin du Convive des dernières fêtes.', 35, array([-0.00057983, -0.00036621, -0.0005188 , ...,  0.        ,\n",
      "        0.        ,  0.        ], dtype=float32), 7.815419501133787)\n",
      "('/local_disk/calypso/jduret/corpus/synplaflex/wavs/lisleadam_contescruels_28_033.wav', 'Fin de Souvenirs occultes.', 26, array([0.        , 0.00045776, 0.00164795, ..., 0.        , 0.        ,\n",
      "       0.        ], dtype=float32), 6.624897959183674)\n",
      "('/local_disk/calypso/jduret/corpus/synplaflex/wavs/sue_mysteresdeparis_01_30_016.wav', 'Non...', 6, array([-3.0517578e-05, -1.5258789e-04, -1.5258789e-04, ...,\n",
      "       -2.1362305e-04, -1.5258789e-04,  3.0517578e-05], dtype=float32), 1.5249886621315192)\n",
      "('/local_disk/calypso/jduret/corpus/synplaflex/wavs/sue_mysteresdeparis_01_30_110.wav', 'Fin du chapitre 9. Enregistré par Nadine Eckert-Boulet, à Copenhague, en février 2012.', 86, array([-4.5776367e-04, -4.8828125e-04, -4.8828125e-04, ...,\n",
      "        0.0000000e+00,  0.0000000e+00,  3.0517578e-05], dtype=float32), 46.679092970521545)\n",
      "('/local_disk/calypso/jduret/corpus/synplaflex/wavs/zola_germinal_13_071.wav', 'Fin du chapitre 2 de la troisième partie.', 41, array([-3.9672852e-04, -3.6621094e-04, -3.9672852e-04, ...,\n",
      "        0.0000000e+00, -3.0517578e-05,  6.1035156e-05], dtype=float32), 9.226122448979591)\n",
      "('/local_disk/calypso/jduret/corpus/synplaflex/wavs/sue_mysteresdeparis_01_28_024.wav', '– DIEU !', 8, array([3.3569336e-04, 2.4414062e-04, 2.1362305e-04, ..., 1.2207031e-04,\n",
      "       6.1035156e-05, 5.7983398e-04], dtype=float32), 1.95)\n",
      "('/local_disk/calypso/jduret/corpus/synplaflex/wavs/flaubert_madamebovary_30_024.wav', '– Yes.', 6, array([ 0.00012207, -0.00048828, -0.00057983, ..., -0.00067139,\n",
      "       -0.00064087, -0.00048828], dtype=float32), 1.4149886621315193)\n",
      "('/local_disk/calypso/jduret/corpus/synplaflex/wavs/nodier_infernaliana_22_020.wav', 'Fin de la section 22.', 21, array([-9.1552734e-05,  9.1552734e-05, -6.1035156e-05, ...,\n",
      "       -3.0517578e-05,  0.0000000e+00,  0.0000000e+00], dtype=float32), 8.092766439909298)\n",
      "('/local_disk/calypso/jduret/corpus/synplaflex/wavs/nodier_infernaliana_09_011.wav', 'Fin de la section 9.', 20, array([-6.1035156e-05, -6.1035156e-05, -3.0517578e-05, ...,\n",
      "        0.0000000e+00,  0.0000000e+00,  0.0000000e+00], dtype=float32), 6.72031746031746)\n"
     ]
    }
   ],
   "source": [
    "dist = norm(mean, std)\n",
    "\n",
    "# find irregular instances long or short voice durations\n",
    "for item in data:\n",
    "    text = item[1]\n",
    "    dur = item[-1]\n",
    "    sec_per_char = dur / len(text)\n",
    "    pdf =norm.pdf(sec_per_char)\n",
    "    if pdf < 0.39:\n",
    "        print(item)"
   ]
  },
  {
   "cell_type": "markdown",
   "metadata": {
    "Collapsed": "false"
   },
   "source": [
    "### Plot Dataset Statistics"
   ]
  },
  {
   "cell_type": "code",
   "execution_count": 17,
   "metadata": {
    "Collapsed": "false"
   },
   "outputs": [
    {
     "data": {
      "text/plain": [
       "<matplotlib.collections.PathCollection at 0x7ff648c04f40>"
      ]
     },
     "execution_count": 17,
     "metadata": {},
     "output_type": "execute_result"
    },
    {
     "data": {
      "image/png": "[encoded data removed]",
      "text/plain": [
       "<Figure size 432x288 with 1 Axes>"
      ]
     },
     "metadata": {
      "needs_background": "light"
     },
     "output_type": "display_data"
    }
   ],
   "source": [
    "plt.title(\"text length vs mean audio duration\")\n",
    "plt.scatter(list(text_vs_avg.keys()), list(text_vs_avg.values()))"
   ]
  },
  {
   "cell_type": "code",
   "execution_count": 18,
   "metadata": {
    "Collapsed": "false"
   },
   "outputs": [
    {
     "data": {
      "text/plain": [
       "<matplotlib.collections.PathCollection at 0x7ff65b4355b0>"
      ]
     },
     "execution_count": 18,
     "metadata": {},
     "output_type": "execute_result"
    },
    {
     "data": {
      "image/png": "[encoded data removed]",
      "text/plain": [
       "<Figure size 432x288 with 1 Axes>"
      ]
     },
     "metadata": {
      "needs_background": "light"
     },
     "output_type": "display_data"
    }
   ],
   "source": [
    "plt.title(\"text length vs median audio duration\")\n",
    "plt.scatter(list(text_vs_median.keys()), list(text_vs_median.values()))"
   ]
  },
  {
   "cell_type": "code",
   "execution_count": 19,
   "metadata": {
    "Collapsed": "false"
   },
   "outputs": [
    {
     "data": {
      "text/plain": [
       "<matplotlib.collections.PathCollection at 0x7ff648ae4fd0>"
      ]
     },
     "execution_count": 19,
     "metadata": {},
     "output_type": "execute_result"
    },
    {
     "data": {
      "image/png": "[encoded data removed]",
      "text/plain": [
       "<Figure size 432x288 with 1 Axes>"
      ]
     },
     "metadata": {
      "needs_background": "light"
     },
     "output_type": "display_data"
    }
   ],
   "source": [
    "plt.title(\"text length vs STD\")\n",
    "plt.scatter(list(text_vs_std.keys()), list(text_vs_std.values()))"
   ]
  },
  {
   "cell_type": "code",
   "execution_count": 20,
   "metadata": {
    "Collapsed": "false"
   },
   "outputs": [
    {
     "data": {
      "text/plain": [
       "<matplotlib.collections.PathCollection at 0x7ff648a4b460>"
      ]
     },
     "execution_count": 20,
     "metadata": {},
     "output_type": "execute_result"
    },
    {
     "data": {
      "image/png": "[encoded data removed]",
      "text/plain": [
       "<Figure size 432x288 with 1 Axes>"
      ]
     },
     "metadata": {
      "needs_background": "light"
     },
     "output_type": "display_data"
    }
   ],
   "source": [
    "plt.title(\"text length vs # instances\")\n",
    "plt.scatter(list(text_len_counter.keys()), list(text_len_counter.values()))"
   ]
  },
  {
   "cell_type": "markdown",
   "metadata": {
    "Collapsed": "false"
   },
   "source": [
    "### Check words frequencies"
   ]
  },
  {
   "cell_type": "code",
   "execution_count": null,
   "metadata": {
    "Collapsed": "false"
   },
   "outputs": [],
   "source": [
    "w_count_df = pd.DataFrame.from_dict(w_count, orient='index')\n",
    "w_count_df.sort_values(0, ascending=False, inplace=True)"
   ]
  },
  {
   "cell_type": "code",
   "execution_count": null,
   "metadata": {
    "Collapsed": "false",
    "scrolled": true
   },
   "outputs": [],
   "source": [
    "w_count_df"
   ]
  },
  {
   "cell_type": "code",
   "execution_count": null,
   "metadata": {
    "Collapsed": "false"
   },
   "outputs": [],
   "source": [
    "# check a certain word\n",
    "w_count_df.at['minute', 0]"
   ]
  },
  {
   "cell_type": "code",
   "execution_count": null,
   "metadata": {
    "Collapsed": "false"
   },
   "outputs": [],
   "source": [
    "# fequency bar plot - it takes time!!\n",
    "w_count_df.plot.bar()"
   ]
  }
 ],
 "metadata": {
  "kernelspec": {
   "display_name": "Python 3 (ipykernel)",
   "language": "python",
   "name": "python3"
  },
  "language_info": {
   "codemirror_mode": {
    "name": "ipython",
    "version": 3
   },
   "file_extension": ".py",
   "mimetype": "text/x-python",
   "name": "python",
   "nbconvert_exporter": "python",
   "pygments_lexer": "ipython3",
   "version": "3.9.9"
  }
 },
 "nbformat": 4,
 "nbformat_minor": 4
}
